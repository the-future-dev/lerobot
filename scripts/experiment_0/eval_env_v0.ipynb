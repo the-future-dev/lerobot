{
 "cells": [
  {
   "cell_type": "code",
   "execution_count": 12,
   "metadata": {},
   "outputs": [],
   "source": [
    "from pathlib import Path\n",
    "import json\n",
    "import numpy as np\n",
    "import torch\n",
    "import imageio\n",
    "import gym_pusht  # noqa: F401\n",
    "import gymnasium as gym\n",
    "from gymnasium.vector import SyncVectorEnv, AsyncVectorEnv\n",
    "import matplotlib.pyplot as plt\n",
    "\n",
    "# Import the eval_policy function from the lerobot scripts\n",
    "from lerobot.scripts.eval import eval_policy\n",
    "from lerobot.common.policies.diffusion.modeling_diffusion import DiffusionPolicy\n",
    "from lerobot.common.envs.factory import make_env, make_env_config\n",
    "from lerobot.common.envs.configs import PushtEnv\n"
   ]
  },
  {
   "cell_type": "code",
   "execution_count": 2,
   "metadata": {},
   "outputs": [],
   "source": [
    "output_directory = Path(\"../../outputs/eval/pushtv1_pretrained-diffusion\")\n",
    "output_directory.mkdir(parents=True, exist_ok=True)\n",
    "\n",
    "videos_dir = output_directory / \"videos\"\n",
    "videos_dir.mkdir(parents=True, exist_ok=True)"
   ]
  },
  {
   "cell_type": "code",
   "execution_count": 3,
   "metadata": {},
   "outputs": [
    {
     "name": "stdout",
     "output_type": "stream",
     "text": [
      "\n",
      "=== Policy Configuration ===\n",
      "Input features: {'observation.image': PolicyFeature(type=<FeatureType.VISUAL: 'VISUAL'>, shape=(3, 96, 96)), 'observation.state': PolicyFeature(type=<FeatureType.STATE: 'STATE'>, shape=(2,))}\n",
      "Output features: {'action': PolicyFeature(type=<FeatureType.ACTION: 'ACTION'>, shape=(2,))}\n",
      "Image features: {'observation.image': PolicyFeature(type=<FeatureType.VISUAL: 'VISUAL'>, shape=(3, 96, 96))}\n",
      "Observation steps: 2\n",
      "Action steps: 8\n",
      "Horizon: 16\n"
     ]
    }
   ],
   "source": [
    "device = \"cuda\"\n",
    "pretrained_policy_path = \"lerobot/diffusion_pusht\"\n",
    "\n",
    "policy = DiffusionPolicy.from_pretrained(pretrained_policy_path)\n",
    "policy.to(device)\n",
    "\n",
    "# print(policy)\n",
    "print(\"\\n=== Policy Configuration ===\")\n",
    "print(f\"Input features: {policy.config.input_features}\")\n",
    "print(f\"Output features: {policy.config.output_features}\")\n",
    "print(f\"Image features: {policy.config.image_features}\")\n",
    "print(f\"Observation steps: {policy.config.n_obs_steps}\")\n",
    "print(f\"Action steps: {policy.config.n_action_steps}\")\n",
    "print(f\"Horizon: {policy.config.horizon}\")"
   ]
  },
  {
   "cell_type": "code",
   "execution_count": 4,
   "metadata": {},
   "outputs": [
    {
     "name": "stdout",
     "output_type": "stream",
     "text": [
      "Environment observation space: Dict('agent_pos': Box(0.0, 512.0, (2,), float64), 'pixels': Box(0, 255, (96, 96, 3), uint8))\n",
      "Environment action space: Box(0.0, 512.0, (2,), float32)\n"
     ]
    },
    {
     "name": "stderr",
     "output_type": "stream",
     "text": [
      "/home/arito/miniconda3/envs/lerobot/lib/python3.10/site-packages/gymnasium/envs/registration.py:513: DeprecationWarning: \u001b[33mWARN: The environment gym_pusht/PushT-v0 is out of date. You should consider upgrading to version `v1`.\u001b[0m\n",
      "  logger.deprecation(\n"
     ]
    }
   ],
   "source": [
    "env = gym.make(\n",
    "    \"gym_pusht/PushT-v0\",\n",
    "    obs_type=\"pixels_agent_pos\",\n",
    "    max_episode_steps=300,\n",
    ")\n",
    "print(\"Environment observation space:\", env.observation_space)\n",
    "print(\"Environment action space:\", env.action_space)"
   ]
  },
  {
   "cell_type": "markdown",
   "metadata": {},
   "source": [
    "### Pusht-v1 env\n",
    "\n",
    "**Env** outputs: env.observation_space\n",
    "- \"pixels\" => shape (H, W, 3) where H == W = 96\n",
    "- \"agent_pos\" => shape (2,)\n",
    "\n",
    "**Env** inputs: env.action_space\n",
    "- shape (2,)\n",
    "\n",
    "### Diffusion Policy\n",
    "\n",
    "**Policy** inputs: policy.config.input_features\n",
    "- \"observation.image\" => shape (3, H, W) where H == W = 96\n",
    "- \"observation.state\" => shape (2,)\n",
    "\n",
    "**Policy** outputs: policy.config.output_features\n",
    "- \"action\" => shape (2,)\n",
    "\n"
   ]
  },
  {
   "cell_type": "code",
   "execution_count": 9,
   "metadata": {},
   "outputs": [
    {
     "name": "stderr",
     "output_type": "stream",
     "text": [
      "IMAGEIO FFMPEG_WRITER WARNING: input image is not divisible by macro_block_size=16, resizing from (680, 680) to (688, 688) to ensure video compatibility with most codecs and players. To prevent resizing, make your input image divisible by the macro_block_size or set the macro_block_size to 1 (risking incompatibility).\n"
     ]
    },
    {
     "name": "stdout",
     "output_type": "stream",
     "text": [
      "Success!\n",
      "Video of the evaluation is available in '../../outputs/eval/pushtv1_pretrained-diffusion/single_eval_rollout.mp4'.\n"
     ]
    }
   ],
   "source": [
    "# SINGLE ENVIRONMENT ROLLOUT #################################################################\n",
    "\n",
    "policy.reset()\n",
    "numpy_observation, info = env.reset(seed=42)\n",
    "\n",
    "# Prepare to collect every rewards and all the frames of the episode,\n",
    "# from initial state to final state.\n",
    "rewards = []\n",
    "frames = []\n",
    "\n",
    "# Render frame of the initial state\n",
    "frames.append(env.render())\n",
    "\n",
    "step = 0\n",
    "done = False\n",
    "\n",
    "while not done:\n",
    "    state = torch.from_numpy(numpy_observation[\"agent_pos\"])\n",
    "    image = torch.from_numpy(numpy_observation[\"pixels\"])\n",
    "\n",
    "    state = state.to(torch.float32).to(device, non_blocking=True)\n",
    "    image = image.to(torch.float32) / 255\n",
    "    image = image.permute(2, 0, 1).to(device, non_blocking=True)\n",
    "\n",
    "    # Batch dimension\n",
    "    state = state.unsqueeze(0)\n",
    "    image = image.unsqueeze(0)\n",
    "\n",
    "    policy_input = {\n",
    "        \"observation.state\": state,\n",
    "        \"observation.image\": image\n",
    "    }\n",
    "\n",
    "    with torch.inference_mode():\n",
    "        action = policy.select_action(policy_input)\n",
    "\n",
    "    numpy_action = action.squeeze(0).to(\"cpu\").numpy()\n",
    "\n",
    "    numpy_observation, reward, terminated, truncated, info = env.step(numpy_action)\n",
    "    # print(f\"{step=} {reward=} {terminated=}\")\n",
    "\n",
    "    rewards.append(reward)\n",
    "    frames.append(env.render())\n",
    "\n",
    "    done = terminated | truncated | done\n",
    "    step += 1\n",
    "\n",
    "if terminated:\n",
    "    print(\"Success!\")\n",
    "else:\n",
    "    print(\"Failure!\")\n",
    "\n",
    "# Get the speed of environment (i.e. its number of frames per second).\n",
    "fps = env.metadata[\"render_fps\"]\n",
    "\n",
    "# Encode all frames into a mp4 video.\n",
    "video_path = output_directory / \"single_eval_rollout.mp4\"\n",
    "imageio.mimsave(str(video_path), np.stack(frames), fps=fps)\n",
    "\n",
    "print(f\"Video of the evaluation is available in '{video_path}'.\")\n"
   ]
  },
  {
   "cell_type": "code",
   "execution_count": 10,
   "metadata": {},
   "outputs": [
    {
     "name": "stderr",
     "output_type": "stream",
     "text": [
      "/home/arito/miniconda3/envs/lerobot/lib/python3.10/site-packages/gymnasium/envs/registration.py:513: DeprecationWarning: \u001b[33mWARN: The environment gym_pusht/PushT-v0 is out of date. You should consider upgrading to version `v1`.\u001b[0m\n",
      "  logger.deprecation(\n"
     ]
    },
    {
     "name": "stdout",
     "output_type": "stream",
     "text": [
      "Created vectorized environment with 3 parallel environments\n",
      "Running evaluation for 3 episodes starting from seed 50\n"
     ]
    }
   ],
   "source": [
    "# BATCHED ROLLOUT for policy evaluation #####################################################################\n",
    "\n",
    "# Configure the number of environments and episodes\n",
    "n_envs = 3  # Number of parallel environments\n",
    "n_episodes = 3  # Total number of episodes to evaluate\n",
    "start_seed = 50  # Starting seed\n",
    "\n",
    "# Create a vectorized environment\n",
    "env_config = make_env_config(\n",
    "    env_type=\"pusht\",\n",
    "    obs_type=\"pixels_agent_pos\",\n",
    "    render_mode=\"rgb_array\",\n",
    "\n",
    ")\n",
    "# print(env_config)\n",
    "\n",
    "# Create the vectorized environment\n",
    "env = make_env(\n",
    "    env_config, \n",
    "    n_envs=n_envs,\n",
    "    use_async_envs=True  # Using AsyncVectorEnv for better performance\n",
    ")\n",
    "\n",
    "print(f\"Created vectorized environment with {n_envs} parallel environments\")\n",
    "print(f\"Running evaluation for {n_episodes} episodes starting from seed {start_seed}\")\n"
   ]
  },
  {
   "cell_type": "code",
   "execution_count": 11,
   "metadata": {},
   "outputs": [
    {
     "name": "stderr",
     "output_type": "stream",
     "text": [
      "Stepping through eval batches: 100%|██████████| 1/1 [00:59<00:00, 59.31s/it, running_success_rate=100.0%]\n"
     ]
    }
   ],
   "source": [
    "eval_results = eval_policy(\n",
    "    env=env,\n",
    "    policy=policy,\n",
    "    n_episodes=n_episodes,\n",
    "    max_episodes_rendered=10,  # Only render 1 video\n",
    "    videos_dir=videos_dir,\n",
    "    return_episode_data=False,\n",
    "    start_seed=start_seed,\n",
    ")\n",
    "\n",
    "# Close the environment\n",
    "env.close()"
   ]
  },
  {
   "cell_type": "code",
   "execution_count": 13,
   "metadata": {},
   "outputs": [
    {
     "name": "stdout",
     "output_type": "stream",
     "text": [
      "\n",
      "=== Evaluation Results ===\n",
      "Average sum reward: 107.0274\n",
      "Average max reward: 1.0000\n",
      "Success rate: 100.00%\n",
      "Total evaluation time: 60.28 seconds\n",
      "Average time per episode: 20.09 seconds\n"
     ]
    },
    {
     "data": {
      "image/png": "[encoded data removed]",
      "text/plain": [
       "<Figure size 1200x500 with 2 Axes>"
      ]
     },
     "metadata": {},
     "output_type": "display_data"
    },
    {
     "name": "stdout",
     "output_type": "stream",
     "text": [
      "\n",
      "Generated video is available at: ../../outputs/eval/pushtv1_pretrained-diffusion/videos/eval_episode_0.mp4\n"
     ]
    }
   ],
   "source": [
    "# Print the aggregated metrics\n",
    "print(\"\\n=== Evaluation Results ===\")\n",
    "print(f\"Average sum reward: {eval_results['aggregated']['avg_sum_reward']:.4f}\")\n",
    "print(f\"Average max reward: {eval_results['aggregated']['avg_max_reward']:.4f}\")\n",
    "print(f\"Success rate: {eval_results['aggregated']['pc_success']:.2f}%\")\n",
    "print(f\"Total evaluation time: {eval_results['aggregated']['eval_s']:.2f} seconds\")\n",
    "print(f\"Average time per episode: {eval_results['aggregated']['eval_ep_s']:.2f} seconds\")\n",
    "\n",
    "# If you want to analyze per-episode results\n",
    "success_by_episode = [ep[\"success\"] for ep in eval_results[\"per_episode\"]]\n",
    "rewards_by_episode = [ep[\"sum_reward\"] for ep in eval_results[\"per_episode\"]]\n",
    "\n",
    "plt.figure(figsize=(12, 5))\n",
    "\n",
    "# Plot rewards\n",
    "plt.subplot(1, 2, 1)\n",
    "plt.plot(rewards_by_episode)\n",
    "plt.title('Rewards by Episode')\n",
    "plt.xlabel('Episode')\n",
    "plt.ylabel('Sum Reward')\n",
    "\n",
    "# Plot success\n",
    "plt.subplot(1, 2, 2)\n",
    "plt.plot([int(s) for s in success_by_episode])\n",
    "plt.title('Success by Episode')\n",
    "plt.xlabel('Episode')\n",
    "plt.ylabel('Success Rate')\n",
    "plt.ylim(-0.1, 1.1)\n",
    "\n",
    "plt.tight_layout()\n",
    "plt.savefig(output_directory / \"evaluation_results.png\")\n",
    "plt.show()\n",
    "\n",
    "# Save the evaluation results to a file\n",
    "with open(output_directory / \"eval_results.json\", \"w\") as f:\n",
    "    json.dump(eval_results, f, indent=2)\n",
    "\n",
    "# Print video path if any videos were generated\n",
    "if \"video_paths\" in eval_results and eval_results[\"video_paths\"]:\n",
    "    print(f\"\\nGenerated video is available at: {eval_results['video_paths'][0]}\")\n",
    "else:\n",
    "    print(\"No videos generated\")\n"
   ]
  },
  {
   "cell_type": "code",
   "execution_count": 14,
   "metadata": {},
   "outputs": [],
   "source": [
    "del policy\n",
    "torch.cuda.empty_cache()"
   ]
  },
  {
   "cell_type": "code",
   "execution_count": null,
   "metadata": {},
   "outputs": [],
   "source": []
  }
 ],
 "metadata": {
  "kernelspec": {
   "display_name": "lerobot",
   "language": "python",
   "name": "python3"
  },
  "language_info": {
   "codemirror_mode": {
    "name": "ipython",
    "version": 3
   },
   "file_extension": ".py",
   "mimetype": "text/x-python",
   "name": "python",
   "nbconvert_exporter": "python",
   "pygments_lexer": "ipython3",
   "version": "3.10.16"
  }
 },
 "nbformat": 4,
 "nbformat_minor": 2
}
